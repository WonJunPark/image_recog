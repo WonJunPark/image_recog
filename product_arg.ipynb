{
 "cells": [
  {
   "cell_type": "code",
   "execution_count": 1,
   "metadata": {
    "scrolled": true
   },
   "outputs": [],
   "source": [
    "import numpy as np\n",
    "import tensorflow as tf\n",
    "from tensorflow.keras.preprocessing.image import ImageDataGenerator\n",
    "from matplotlib import pyplot as plt"
   ]
  },
  {
   "cell_type": "code",
   "execution_count": 2,
   "metadata": {},
   "outputs": [],
   "source": [
    "import cv2\n",
    "import os"
   ]
  },
  {
   "cell_type": "code",
   "execution_count": 3,
   "metadata": {},
   "outputs": [],
   "source": [
    "datagen = ImageDataGenerator(\n",
    "    width_shift_range=0.0,\n",
    "    height_shift_range=0.0,\n",
    "    fill_mode='nearest')"
   ]
  },
  {
   "cell_type": "code",
   "execution_count": null,
   "metadata": {
    "collapsed": true
   },
   "outputs": [],
   "source": []
  },
  {
   "cell_type": "code",
   "execution_count": 4,
   "metadata": {},
   "outputs": [],
   "source": [
    "product = [\"unrecog\"]"
   ]
  },
  {
   "cell_type": "code",
   "execution_count": 9,
   "metadata": {},
   "outputs": [],
   "source": [
    "#고혈압 약"
   ]
  },
  {
   "cell_type": "code",
   "execution_count": 4,
   "metadata": {},
   "outputs": [],
   "source": [
    "product = [\"apple\",\"grape\",\"kiwi\",\"mandarin\",\"melon\",\"pear\",\n",
    "          \"persimmon\",\"melon\",\"pear\",\"persimmon\",\"potato\",\n",
    "          \"strawberry\",\"sweet_potato\",\"tomato\",\"watermelon\"]"
   ]
  },
  {
   "cell_type": "code",
   "execution_count": 6,
   "metadata": {},
   "outputs": [],
   "source": [
    "product = [\"potato\",\"strawberry\",\"sweet_potato\",\n",
    "           \"tomato\",\"watermelon\"]"
   ]
  },
  {
   "cell_type": "code",
   "execution_count": 6,
   "metadata": {
    "scrolled": false
   },
   "outputs": [],
   "source": [
    "for i in product:\n",
    "    path='C:/Users/GC/Desktop/product_recog/image/'+i+'/'\n",
    "    image_list = os.listdir(path)\n",
    "    save_dir = 'C:/Users/GC/Desktop/product_recog/image/'+i+'/'  #augmented images will be saved in this folder\n",
    "\n",
    "    augment_number=110  #number of augmented versions for each image\n",
    "    for f in image_list:\n",
    "        image_filename = path+f\n",
    "        image = np.expand_dims(plt.imread(image_filename), 0)\n",
    "        datagen.fit(image)\n",
    "        for x, val in zip(datagen.flow(image,       #input image\n",
    "                save_to_dir=save_dir,     #augmented images will be saved here\n",
    "                save_prefix=i,        # the augmented image name will have prefix 'aug'\n",
    "                save_format='png'),range(augment_number)) :  \n",
    "            pass"
   ]
  },
  {
   "cell_type": "code",
   "execution_count": null,
   "metadata": {},
   "outputs": [],
   "source": []
  },
  {
   "cell_type": "code",
   "execution_count": null,
   "metadata": {},
   "outputs": [],
   "source": []
  }
 ],
 "metadata": {
  "kernelspec": {
   "display_name": "Python 3",
   "language": "python",
   "name": "python3"
  },
  "language_info": {
   "codemirror_mode": {
    "name": "ipython",
    "version": 3
   },
   "file_extension": ".py",
   "mimetype": "text/x-python",
   "name": "python",
   "nbconvert_exporter": "python",
   "pygments_lexer": "ipython3",
   "version": "3.6.5"
  }
 },
 "nbformat": 4,
 "nbformat_minor": 2
}
