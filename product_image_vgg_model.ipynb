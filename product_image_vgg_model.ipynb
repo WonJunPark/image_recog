{
 "cells": [
  {
   "cell_type": "code",
   "execution_count": 2,
   "metadata": {},
   "outputs": [
    {
     "name": "stderr",
     "output_type": "stream",
     "text": [
      "Using TensorFlow backend.\n"
     ]
    }
   ],
   "source": [
    "from sklearn.model_selection import train_test_split\n",
    "from keras.models import Sequential\n",
    "from keras.layers import Conv2D, MaxPooling2D, Dense, Flatten, Dropout\n",
    "from keras.callbacks import EarlyStopping, ModelCheckpoint\n",
    "import matplotlib.pyplot as plt\n",
    "import keras.backend.tensorflow_backend as K\n",
    "import tensorflow as tf\n",
    "from keras import regularizers"
   ]
  },
  {
   "cell_type": "code",
   "execution_count": 3,
   "metadata": {},
   "outputs": [],
   "source": [
    "from keras import layers, models\n",
    "from keras.applications import VGG16\n",
    "from keras import Input\n",
    "from keras.models import Model\n",
    "from keras.preprocessing.image import ImageDataGenerator\n",
    "from keras import optimizers, initializers, regularizers, metrics\n",
    "from keras.callbacks import ModelCheckpoint\n",
    "import os\n",
    "from glob import glob\n",
    "from PIL import Image\n",
    "import matplotlib.pyplot as plt\n",
    "import numpy as np"
   ]
  },
  {
   "cell_type": "code",
   "execution_count": 4,
   "metadata": {},
   "outputs": [],
   "source": [
    "from PIL import ImageFile\n",
    "ImageFile.LOAD_TRUNCATED_IMAGES = True"
   ]
  },
  {
   "cell_type": "code",
   "execution_count": 5,
   "metadata": {},
   "outputs": [],
   "source": [
    "caltech_dir = \"C:/Users/GC/Desktop/product_image/Product_image_recog/image\"\n",
    "categories = [\"apple\",\"grape\",\"kiwi\",\"mandarin\",\"melon\",\"pear\",\n",
    "          \"persimmon\",\"potato\",\"strawberry\",\"sweet_potato\",\n",
    "              \"tomato\",\"watermelon\"]\n",
    "nb_classes = len(categories)"
   ]
  },
  {
   "cell_type": "code",
   "execution_count": null,
   "metadata": {},
   "outputs": [],
   "source": []
  },
  {
   "cell_type": "code",
   "execution_count": 6,
   "metadata": {},
   "outputs": [],
   "source": [
    "image_w = 300\n",
    "image_h = 400\n",
    "\n",
    "pixels = image_h * image_w * 3\n",
    "\n",
    "X = []\n",
    "y = []"
   ]
  },
  {
   "cell_type": "code",
   "execution_count": 7,
   "metadata": {
    "scrolled": true
   },
   "outputs": [
    {
     "name": "stdout",
     "output_type": "stream",
     "text": [
      "apple  :  C:/Users/GC/Desktop/product_image/Product_image_recog/image/apple\\apple.png\n",
      "grape  :  C:/Users/GC/Desktop/product_image/Product_image_recog/image/grape\\grape.png\n",
      "kiwi  :  C:/Users/GC/Desktop/product_image/Product_image_recog/image/kiwi\\kiwi.png\n",
      "mandarin  :  C:/Users/GC/Desktop/product_image/Product_image_recog/image/mandarin\\mandarin.png\n",
      "melon  :  C:/Users/GC/Desktop/product_image/Product_image_recog/image/melon\\melon.png\n",
      "pear  :  C:/Users/GC/Desktop/product_image/Product_image_recog/image/pear\\pear.png\n",
      "persimmon  :  C:/Users/GC/Desktop/product_image/Product_image_recog/image/persimmon\\persimmon.png\n",
      "potato  :  C:/Users/GC/Desktop/product_image/Product_image_recog/image/potato\\potato.png\n",
      "strawberry  :  C:/Users/GC/Desktop/product_image/Product_image_recog/image/strawberry\\strawberry.png\n",
      "sweet_potato  :  C:/Users/GC/Desktop/product_image/Product_image_recog/image/sweet_potato\\sweet_potato.png\n",
      "tomato  :  C:/Users/GC/Desktop/product_image/Product_image_recog/image/tomato\\tomato.png\n",
      "watermelon  :  C:/Users/GC/Desktop/product_image/Product_image_recog/image/watermelon\\watermelon.png\n"
     ]
    }
   ],
   "source": [
    "for idx, cat in enumerate(categories):\n",
    "    \n",
    "    #one-hot encoding\n",
    "    label = [0 for i in range(nb_classes)]\n",
    "    label[idx] = 1\n",
    "\n",
    "    image_dir = caltech_dir + \"/\" + cat\n",
    "    files = glob(image_dir+\"/*.png\")\n",
    "    \n",
    "    for i, f in enumerate(files):\n",
    "        img = Image.open(f)\n",
    "        img = img.convert(\"RGB\")\n",
    "        img = img.resize((image_w, image_h))\n",
    "        data = np.asarray(img)\n",
    "        \n",
    "        X.append(data)\n",
    "        y.append(label)\n",
    "\n",
    "        \n",
    "        if i % 1000 == 0:\n",
    "            print(cat, \" : \", f)"
   ]
  },
  {
   "cell_type": "code",
   "execution_count": 8,
   "metadata": {},
   "outputs": [],
   "source": [
    "X = np.array(X)\n",
    "y = np.array(y)\n",
    "\n",
    "X_train, X_test, y_train, y_test = train_test_split(X, y)\n",
    "xy = (X_train, X_test, y_train, y_test)"
   ]
  },
  {
   "cell_type": "code",
   "execution_count": 9,
   "metadata": {},
   "outputs": [],
   "source": [
    "#일반화\n",
    "X_train = X_train.astype(float) / 255\n",
    "X_test = X_test.astype(float) / 255"
   ]
  },
  {
   "cell_type": "code",
   "execution_count": 10,
   "metadata": {
    "scrolled": true
   },
   "outputs": [
    {
     "name": "stdout",
     "output_type": "stream",
     "text": [
      "Model: \"vgg16\"\n",
      "_________________________________________________________________\n",
      "Layer (type)                 Output Shape              Param #   \n",
      "=================================================================\n",
      "input_1 (InputLayer)         (None, 400, 300, 3)       0         \n",
      "_________________________________________________________________\n",
      "block1_conv1 (Conv2D)        (None, 400, 300, 64)      1792      \n",
      "_________________________________________________________________\n",
      "block1_conv2 (Conv2D)        (None, 400, 300, 64)      36928     \n",
      "_________________________________________________________________\n",
      "block1_pool (MaxPooling2D)   (None, 200, 150, 64)      0         \n",
      "_________________________________________________________________\n",
      "block2_conv1 (Conv2D)        (None, 200, 150, 128)     73856     \n",
      "_________________________________________________________________\n",
      "block2_conv2 (Conv2D)        (None, 200, 150, 128)     147584    \n",
      "_________________________________________________________________\n",
      "block2_pool (MaxPooling2D)   (None, 100, 75, 128)      0         \n",
      "_________________________________________________________________\n",
      "block3_conv1 (Conv2D)        (None, 100, 75, 256)      295168    \n",
      "_________________________________________________________________\n",
      "block3_conv2 (Conv2D)        (None, 100, 75, 256)      590080    \n",
      "_________________________________________________________________\n",
      "block3_conv3 (Conv2D)        (None, 100, 75, 256)      590080    \n",
      "_________________________________________________________________\n",
      "block3_pool (MaxPooling2D)   (None, 50, 37, 256)       0         \n",
      "_________________________________________________________________\n",
      "block4_conv1 (Conv2D)        (None, 50, 37, 512)       1180160   \n",
      "_________________________________________________________________\n",
      "block4_conv2 (Conv2D)        (None, 50, 37, 512)       2359808   \n",
      "_________________________________________________________________\n",
      "block4_conv3 (Conv2D)        (None, 50, 37, 512)       2359808   \n",
      "_________________________________________________________________\n",
      "block4_pool (MaxPooling2D)   (None, 25, 18, 512)       0         \n",
      "_________________________________________________________________\n",
      "block5_conv1 (Conv2D)        (None, 25, 18, 512)       2359808   \n",
      "_________________________________________________________________\n",
      "block5_conv2 (Conv2D)        (None, 25, 18, 512)       2359808   \n",
      "_________________________________________________________________\n",
      "block5_conv3 (Conv2D)        (None, 25, 18, 512)       2359808   \n",
      "_________________________________________________________________\n",
      "block5_pool (MaxPooling2D)   (None, 12, 9, 512)        0         \n",
      "=================================================================\n",
      "Total params: 14,714,688\n",
      "Trainable params: 0\n",
      "Non-trainable params: 14,714,688\n",
      "_________________________________________________________________\n"
     ]
    }
   ],
   "source": [
    "input_tensor = Input(shape=(400, 300, 3), dtype='float32', name='input')\n",
    "\n",
    "pre_trained_vgg = VGG16(weights='imagenet', include_top=False, input_shape=(400, 300, 3))\n",
    "pre_trained_vgg.trainable = False\n",
    "pre_trained_vgg.summary()\n",
    "\n",
    "\n",
    "additional_model = models.Sequential()\n",
    "additional_model.add(pre_trained_vgg)\n",
    "additional_model.add(layers.Flatten())\n",
    "additional_model.add(layers.Dense(4096, kernel_regularizer = regularizers.l1_l2\n",
    "                                  (l1=0.001,l2=0.001),activation='relu'))\n",
    "additional_model.add(layers.Dropout(0.5))\n",
    "additional_model.add(layers.Dense(2048, kernel_regularizer = regularizers.l1_l2\n",
    "                                  (l1=0.001,l2=0.001),activation='relu'))\n",
    "additional_model.add(layers.Dropout(0.5))\n",
    "additional_model.add(layers.Dense(1024, kernel_regularizer = regularizers.l1_l2\n",
    "                                  (l1=0.001,l2=0.001),activation='relu'))\n",
    "additional_model.add(layers.Dropout(0.5))\n",
    "additional_model.add(layers.Dense(12, activation='softmax'))\n",
    "\n",
    "additional_model.compile(loss='binary_crossentropy',\n",
    "              optimizer=optimizers.RMSprop(lr=1e-4),\n",
    "              metrics=['acc'])"
   ]
  },
  {
   "cell_type": "code",
   "execution_count": 11,
   "metadata": {
    "scrolled": true
   },
   "outputs": [
    {
     "name": "stdout",
     "output_type": "stream",
     "text": [
      "Train on 900 samples, validate on 300 samples\n",
      "Epoch 1/30\n",
      "900/900 [==============================] - 295s 328ms/step - loss: 1013.3054 - acc: 0.9103 - val_loss: 783.9811 - val_acc: 0.9167\n",
      "Epoch 2/30\n",
      "900/900 [==============================] - 299s 332ms/step - loss: 639.9418 - acc: 0.9167 - val_loss: 495.8533 - val_acc: 0.9167\n",
      "Epoch 3/30\n",
      "900/900 [==============================] - 298s 331ms/step - loss: 392.9664 - acc: 0.9167 - val_loss: 291.2901 - val_acc: 0.9167\n",
      "Epoch 4/30\n",
      "900/900 [==============================] - 296s 328ms/step - loss: 223.8703 - acc: 0.9167 - val_loss: 161.4610 - val_acc: 0.9167\n",
      "Epoch 5/30\n",
      "900/900 [==============================] - 292s 324ms/step - loss: 128.8868 - acc: 0.9167 - val_loss: 105.3773 - val_acc: 0.9167\n",
      "Epoch 6/30\n",
      "900/900 [==============================] - 292s 325ms/step - loss: 98.7427 - acc: 0.9167 - val_loss: 91.7479 - val_acc: 0.9167\n",
      "Epoch 7/30\n",
      "900/900 [==============================] - 291s 324ms/step - loss: 85.9032 - acc: 0.9167 - val_loss: 79.5561 - val_acc: 0.9167\n",
      "Epoch 8/30\n",
      "900/900 [==============================] - 293s 325ms/step - loss: 74.2340 - acc: 0.9167 - val_loss: 68.4653 - val_acc: 0.9167\n",
      "Epoch 9/30\n",
      "900/900 [==============================] - 291s 324ms/step - loss: 63.6524 - acc: 0.9167 - val_loss: 58.4540 - val_acc: 0.9167\n",
      "Epoch 10/30\n",
      "900/900 [==============================] - 291s 323ms/step - loss: 54.1478 - acc: 0.9167 - val_loss: 49.5149 - val_acc: 0.9167\n",
      "Epoch 11/30\n",
      "900/900 [==============================] - 290s 322ms/step - loss: 45.7125 - acc: 0.9167 - val_loss: 41.6412 - val_acc: 0.9167\n",
      "Epoch 12/30\n",
      "900/900 [==============================] - 291s 323ms/step - loss: 38.3372 - acc: 0.9167 - val_loss: 34.8204 - val_acc: 0.9167\n",
      "Epoch 13/30\n",
      "900/900 [==============================] - 291s 323ms/step - loss: 32.0092 - acc: 0.9167 - val_loss: 29.0425 - val_acc: 0.9167\n",
      "Epoch 14/30\n",
      "900/900 [==============================] - 295s 328ms/step - loss: 26.7221 - acc: 0.9167 - val_loss: 24.3035 - val_acc: 0.9167\n",
      "Epoch 15/30\n",
      "900/900 [==============================] - 292s 324ms/step - loss: 22.4727 - acc: 0.9167 - val_loss: 20.6008 - val_acc: 0.9167\n",
      "Epoch 16/30\n",
      "900/900 [==============================] - 292s 325ms/step - loss: 19.2578 - acc: 0.9167 - val_loss: 17.9306 - val_acc: 0.9167\n",
      "Epoch 17/30\n",
      "900/900 [==============================] - 291s 323ms/step - loss: 17.0733 - acc: 0.9167 - val_loss: 16.2836 - val_acc: 0.9167\n",
      "Epoch 18/30\n",
      "900/900 [==============================] - 290s 323ms/step - loss: 15.7617 - acc: 0.9167 - val_loss: 15.2084 - val_acc: 0.9167\n",
      "Epoch 19/30\n",
      "900/900 [==============================] - 290s 323ms/step - loss: 14.7740 - acc: 0.9167 - val_loss: 14.3089 - val_acc: 0.9167\n",
      "Epoch 20/30\n",
      "900/900 [==============================] - 289s 321ms/step - loss: 13.9484 - acc: 0.9167 - val_loss: 13.5656 - val_acc: 0.9167\n",
      "Epoch 21/30\n",
      "900/900 [==============================] - 289s 321ms/step - loss: 13.2786 - acc: 0.9167 - val_loss: 12.9780 - val_acc: 0.9167\n",
      "Epoch 22/30\n",
      "900/900 [==============================] - 290s 322ms/step - loss: 12.7643 - acc: 0.9167 - val_loss: 12.5456 - val_acc: 0.9167\n",
      "Epoch 23/30\n",
      "900/900 [==============================] - 289s 321ms/step - loss: 12.4049 - acc: 0.9167 - val_loss: 12.2677 - val_acc: 0.9167\n",
      "Epoch 24/30\n",
      "900/900 [==============================] - 288s 320ms/step - loss: 12.2000 - acc: 0.9167 - val_loss: 12.1444 - val_acc: 0.9167\n",
      "Epoch 25/30\n",
      "900/900 [==============================] - 288s 320ms/step - loss: 12.1389 - acc: 0.9167 - val_loss: 12.1322 - val_acc: 0.9167\n",
      "Epoch 26/30\n",
      "900/900 [==============================] - 288s 320ms/step - loss: 12.1353 - acc: 0.9167 - val_loss: 12.1319 - val_acc: 0.9167\n",
      "Epoch 27/30\n",
      "900/900 [==============================] - 288s 321ms/step - loss: 12.1352 - acc: 0.9167 - val_loss: 12.1319 - val_acc: 0.9167\n",
      "Epoch 28/30\n",
      "900/900 [==============================] - 289s 321ms/step - loss: 12.1352 - acc: 0.9167 - val_loss: 12.1319 - val_acc: 0.9167\n",
      "Epoch 29/30\n",
      "900/900 [==============================] - 289s 321ms/step - loss: 12.1352 - acc: 0.9167 - val_loss: 12.1319 - val_acc: 0.9167\n",
      "Epoch 30/30\n",
      "900/900 [==============================] - 288s 320ms/step - loss: 12.1352 - acc: 0.9167 - val_loss: 12.1319 - val_acc: 0.9167\n"
     ]
    }
   ],
   "source": [
    "history = additional_model.fit(X_train, y_train, \n",
    "                    batch_size=50, \n",
    "                    epochs=30, \n",
    "                    validation_data=(X_test, y_test))"
   ]
  },
  {
   "cell_type": "code",
   "execution_count": 12,
   "metadata": {},
   "outputs": [
    {
     "name": "stdout",
     "output_type": "stream",
     "text": [
      "300/300 [==============================] - 65s 216ms/step\n",
      "정확도 : 0.9167\n"
     ]
    }
   ],
   "source": [
    "print(\"정확도 : %.4f\" % (additional_model.evaluate(X_test, y_test)[1]))"
   ]
  },
  {
   "cell_type": "code",
   "execution_count": 13,
   "metadata": {},
   "outputs": [
    {
     "data": {
      "image/png": "[encoded data removed]",
      "text/plain": [
       "<Figure size 432x288 with 1 Axes>"
      ]
     },
     "metadata": {
      "needs_background": "light"
     },
     "output_type": "display_data"
    },
    {
     "data": {
      "image/png": "[encoded data removed]",
      "text/plain": [
       "<Figure size 432x288 with 1 Axes>"
      ]
     },
     "metadata": {
      "needs_background": "light"
     },
     "output_type": "display_data"
    }
   ],
   "source": [
    "acc = history.history['acc']\n",
    "val_acc = history.history['val_acc']\n",
    "loss = history.history['loss']\n",
    "val_loss = history.history['val_loss']\n",
    "\n",
    "epochs = range(len(acc))\n",
    "\n",
    "plt.plot(epochs, acc, 'bo', label='Training acc')\n",
    "plt.plot(epochs, val_acc, 'b', label='Validation acc')\n",
    "plt.title('Training and validation accuracy')\n",
    "plt.legend()\n",
    "\n",
    "plt.figure()\n",
    "\n",
    "plt.plot(epochs, loss, 'bo', label='Training loss')\n",
    "plt.plot(epochs, val_loss, 'b', label='Validation loss')\n",
    "plt.title('Training and validation loss')\n",
    "plt.legend()\n",
    "\n",
    "plt.show()"
   ]
  },
  {
   "cell_type": "code",
   "execution_count": null,
   "metadata": {},
   "outputs": [],
   "source": []
  },
  {
   "cell_type": "code",
   "execution_count": 32,
   "metadata": {},
   "outputs": [
    {
     "name": "stdout",
     "output_type": "stream",
     "text": [
      "tomato\n"
     ]
    }
   ],
   "source": [
    "img_path = 'C:/Users/GC/Desktop/product_image/Product_image_recog/image/tomato/tomato.png' # 분류를 원하는 이미지 경로 설정\n",
    "\n",
    "# img = image.load_img(img_path, target_size=(400, 300)) # imagenet에 이미지를 적용하기 위해 사이즈 수정 / 불러오기\n",
    "\n",
    "# print(img.size)\n",
    "\n",
    "#x = image.img_to_array(img) # 불러온 이미지를 배열로 변환\n",
    "\n",
    "\n",
    "img = Image.open(img_path)\n",
    "img = img.convert(\"RGB\")\n",
    "img = img.resize((300, 400))\n",
    "data = np.asarray(img)\n",
    "data = np.expand_dims(data, axis=0)\n",
    "#x = np.expand_dims(x, axis=0) # 컴퓨터가 이미지를 인식하기 위해 이미지 차원 축소\n",
    "\n",
    "# #x = preprocess_input(x) # 이미지 전처리\n",
    "\n",
    "#preds = model.predict(x) # 불러온 이미지의 예측 결과를 preds 변수에 저장\n",
    "preds = additional_model.predict(data) # 불러온 이미지의 예측 결과를 preds 변수에 저장\n",
    "\n",
    "answer = None\n",
    "preds_result = 0\n",
    "\n",
    "for i in range(0,11):\n",
    "    if preds[0,i] <= preds[0,i+1]:\n",
    "        answer = categories[i+1]\n",
    "\n",
    "print(answer)"
   ]
  },
  {
   "cell_type": "code",
   "execution_count": 25,
   "metadata": {},
   "outputs": [
    {
     "name": "stdout",
     "output_type": "stream",
     "text": [
      "apple\n",
      "grape\n",
      "kiwi\n",
      "mandarin\n",
      "melon\n",
      "pear\n",
      "persimmon\n",
      "potato\n",
      "strawberry\n",
      "sweet_potato\n",
      "tomato\n",
      "watermelon\n"
     ]
    }
   ],
   "source": [
    "for i in range(0,12):\n",
    "    print(categories[i])"
   ]
  },
  {
   "cell_type": "code",
   "execution_count": 27,
   "metadata": {},
   "outputs": [
    {
     "data": {
      "text/plain": [
       "0.08518407"
      ]
     },
     "execution_count": 27,
     "metadata": {},
     "output_type": "execute_result"
    }
   ],
   "source": [
    "preds[0,1]"
   ]
  },
  {
   "cell_type": "code",
   "execution_count": 28,
   "metadata": {},
   "outputs": [
    {
     "name": "stdout",
     "output_type": "stream",
     "text": [
      "tomato\n"
     ]
    }
   ],
   "source": [
    "\n",
    "\n",
    "\n",
    "#print('Predicted: ', decode_predictions(preds, top=3)[0])\n",
    "#a = (decode_predictions(preds, top=3)[0]) # a 변수에 예축 결과를 디코딩해서 저장해서 리스트로 반환 [(코드, 분류 결과, 확률)]\n",
    "#b = (a[0]) # 리스트 내에 저장되어 있는 튜플 반환\n",
    "#c = (b[1]) # 튜플 값을 text로 반환\n",
    "#print(c)\n",
    "# 모델 저장\n",
    "#model_json = model.to_json()\n",
    "#with open(\"model.json\",\"w\") as json_file :\n",
    "    #json_file.write(model_json)\n",
    "\n",
    "# 가중치 저장\n",
    "#final_weight_path = os.path.join('C:\\\\Users\\\\benbe\\\\Desktop' , 'model_weights.h5') #모델 가중치 파일 만들기 및 경로 지정\n",
    "#print(final_weight_path) "
   ]
  },
  {
   "cell_type": "code",
   "execution_count": null,
   "metadata": {},
   "outputs": [],
   "source": []
  },
  {
   "cell_type": "code",
   "execution_count": null,
   "metadata": {},
   "outputs": [],
   "source": []
  },
  {
   "cell_type": "code",
   "execution_count": null,
   "metadata": {},
   "outputs": [],
   "source": []
  },
  {
   "cell_type": "code",
   "execution_count": 17,
   "metadata": {},
   "outputs": [],
   "source": [
    "model_json = additional_model.to_json()\n",
    "with open(\"model.json\", \"w\") as json_file : \n",
    "    json_file.write(model_json)"
   ]
  },
  {
   "cell_type": "code",
   "execution_count": null,
   "metadata": {},
   "outputs": [],
   "source": [
    "additional_model.save_weights(\"model_w.h5\")\n",
    "print(\"Saved model to disk\")"
   ]
  }
 ],
 "metadata": {
  "kernelspec": {
   "display_name": "Python 3",
   "language": "python",
   "name": "python3"
  },
  "language_info": {
   "codemirror_mode": {
    "name": "ipython",
    "version": 3
   },
   "file_extension": ".py",
   "mimetype": "text/x-python",
   "name": "python",
   "nbconvert_exporter": "python",
   "pygments_lexer": "ipython3",
   "version": "3.6.5"
  }
 },
 "nbformat": 4,
 "nbformat_minor": 2
}
